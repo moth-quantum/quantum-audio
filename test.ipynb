{
 "cells": [
  {
   "cell_type": "code",
   "execution_count": 1,
   "id": "a752591b-96e1-4065-acb7-7fdd28f8ccf4",
   "metadata": {},
   "outputs": [],
   "source": [
    "import quantumaudio"
   ]
  },
  {
   "cell_type": "code",
   "execution_count": 2,
   "id": "25228fe2-4be1-4d95-8125-e60134a28c71",
   "metadata": {},
   "outputs": [
    {
     "data": {
      "text/plain": [
       "quantumaudio.schemes.qsm.QSM"
      ]
     },
     "execution_count": 2,
     "metadata": {},
     "output_type": "execute_result"
    }
   ],
   "source": [
    "quantumaudio.load('qsm')"
   ]
  },
  {
   "cell_type": "code",
   "execution_count": 3,
   "id": "8761bd86-1a38-4fa0-bfeb-b56238112fb4",
   "metadata": {},
   "outputs": [
    {
     "data": {
      "text/plain": [
       "<module 'quantumaudio.schemes' from '/Users/moth/Documents/GitHub/quantum-audio/quantumaudio/schemes/__init__.py'>"
      ]
     },
     "execution_count": 3,
     "metadata": {},
     "output_type": "execute_result"
    }
   ],
   "source": [
    "quantumaudio.schemes"
   ]
  },
  {
   "cell_type": "code",
   "execution_count": null,
   "id": "06169082-7722-432f-b06b-4c2528e3436c",
   "metadata": {},
   "outputs": [],
   "source": []
  }
 ],
 "metadata": {
  "kernelspec": {
   "display_name": "qa",
   "language": "python",
   "name": "qa"
  },
  "language_info": {
   "codemirror_mode": {
    "name": "ipython",
    "version": 3
   },
   "file_extension": ".py",
   "mimetype": "text/x-python",
   "name": "python",
   "nbconvert_exporter": "python",
   "pygments_lexer": "ipython3",
   "version": "3.10.14"
  }
 },
 "nbformat": 4,
 "nbformat_minor": 5
}
