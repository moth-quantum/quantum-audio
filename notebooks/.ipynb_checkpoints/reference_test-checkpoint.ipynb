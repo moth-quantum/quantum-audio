{
 "cells": [
  {
   "cell_type": "code",
   "execution_count": null,
   "id": "898f3243-5a0a-4668-ae40-2604936dfc0c",
   "metadata": {},
   "outputs": [],
   "source": [
    "#pip show qiskit | grep Version"
   ]
  },
  {
   "cell_type": "code",
   "execution_count": null,
   "id": "9148b0ac-a8a6-4a13-b2a5-a1a50e8fada4",
   "metadata": {},
   "outputs": [],
   "source": [
    "import sys\n",
    "sys.path.append(\"../src\")"
   ]
  },
  {
   "cell_type": "code",
   "execution_count": null,
   "id": "efe82e77-a28b-47a6-b339-7d0aee8d6c41",
   "metadata": {},
   "outputs": [],
   "source": [
    "import utils\n",
    "from reference import quantumaudio"
   ]
  },
  {
   "cell_type": "code",
   "execution_count": null,
   "id": "83efeb91-1b92-45a7-bbad-2bc398c24a2d",
   "metadata": {},
   "outputs": [],
   "source": [
    "audio = utils.simulate_data(num_samples=8)\n",
    "#utils.plot(audio)"
   ]
  },
  {
   "cell_type": "code",
   "execution_count": null,
   "id": "dd24ff90-e7be-4f48-b0b2-f6e75093cdaa",
   "metadata": {},
   "outputs": [],
   "source": [
    "def encode(data,scheme):\n",
    "\tqa = quantumaudio.QuantumAudio(scheme).load_input(data).prepare().measure()\n",
    "\treturn qa\n",
    "\n",
    "def decode(qa,shots=1024):\n",
    "    qa.run(shots).reconstruct_audio()\n",
    "    return qa.output"
   ]
  },
  {
   "cell_type": "code",
   "execution_count": null,
   "id": "1040bc95-c1bf-47de-bd27-56fab15cf765",
   "metadata": {},
   "outputs": [],
   "source": [
    "qpam = encode(audio,scheme='qpam')"
   ]
  },
  {
   "cell_type": "code",
   "execution_count": null,
   "id": "b44ae939-f9c6-4253-8d46-a4f83d75d26b",
   "metadata": {},
   "outputs": [],
   "source": [
    "utils.tune(qpam,function=decode,ref=audio,step=8,max_value=2048)"
   ]
  },
  {
   "cell_type": "code",
   "execution_count": null,
   "id": "7575ebef-7e4e-4ca2-91d4-9d4c1e8c34bc",
   "metadata": {},
   "outputs": [],
   "source": []
  }
 ],
 "metadata": {
  "kernelspec": {
   "display_name": "qa",
   "language": "python",
   "name": "qa"
  },
  "language_info": {
   "codemirror_mode": {
    "name": "ipython",
    "version": 3
   },
   "file_extension": ".py",
   "mimetype": "text/x-python",
   "name": "python",
   "nbconvert_exporter": "python",
   "pygments_lexer": "ipython3",
   "version": "3.10.14"
  }
 },
 "nbformat": 4,
 "nbformat_minor": 5
}
