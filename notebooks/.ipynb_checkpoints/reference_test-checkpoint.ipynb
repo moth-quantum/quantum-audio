{
 "cells": [
  {
   "cell_type": "code",
   "execution_count": null,
   "id": "898f3243-5a0a-4668-ae40-2604936dfc0c",
   "metadata": {},
   "outputs": [],
   "source": [
    "#pip show qiskit | grep Version"
   ]
  },
  {
   "cell_type": "code",
   "execution_count": 17,
   "id": "9148b0ac-a8a6-4a13-b2a5-a1a50e8fada4",
   "metadata": {},
   "outputs": [],
   "source": [
    "import sys\n",
    "sys.path.append(\"../src\")"
   ]
  },
  {
   "cell_type": "code",
   "execution_count": 18,
   "id": "efe82e77-a28b-47a6-b339-7d0aee8d6c41",
   "metadata": {},
   "outputs": [],
   "source": [
    "import utils\n",
    "from reference import quantumaudio\n",
    "import numpy as np"
   ]
  },
  {
   "cell_type": "code",
   "execution_count": 19,
   "id": "83efeb91-1b92-45a7-bbad-2bc398c24a2d",
   "metadata": {},
   "outputs": [],
   "source": [
    "audio = utils.simulate_data(num_samples=3000)"
   ]
  },
  {
   "cell_type": "code",
   "execution_count": 20,
   "id": "dd24ff90-e7be-4f48-b0b2-f6e75093cdaa",
   "metadata": {},
   "outputs": [],
   "source": [
    "def encode(data,scheme):\n",
    "\tqa = quantumaudio.QuantumAudio(scheme).load_input(data).prepare().measure()\n",
    "\treturn qa\n",
    "\n",
    "def decode(qa,shots=1024):\n",
    "    qa.run(shots).reconstruct_audio()\n",
    "    return qa.output"
   ]
  },
  {
   "cell_type": "code",
   "execution_count": 41,
   "id": "d07a3687-4764-4b17-a474-bdafa7bd6349",
   "metadata": {},
   "outputs": [],
   "source": [
    "import librosa\n",
    "import soundfile as sf"
   ]
  },
  {
   "cell_type": "code",
   "execution_count": 42,
   "id": "1f21d5d4-298e-42ed-a039-f7be9364eb93",
   "metadata": {},
   "outputs": [],
   "source": [
    "y,sr = librosa.load('./impulse.mp3')"
   ]
  },
  {
   "cell_type": "code",
   "execution_count": 43,
   "id": "1040bc95-c1bf-47de-bd27-56fab15cf765",
   "metadata": {},
   "outputs": [
    {
     "name": "stdout",
     "output_type": "stream",
     "text": [
      "For this input, the QPAM representation will require:\n",
      "         10 qubits for encoding time information and \n",
      "         0 qubits for encoding ampĺitude information.\n"
     ]
    }
   ],
   "source": [
    "qpam = encode(y[:5000],scheme='qpam')"
   ]
  },
  {
   "cell_type": "code",
   "execution_count": 44,
   "id": "ffff4625-59a5-4ea3-8419-eeac82ccfb59",
   "metadata": {},
   "outputs": [
    {
     "data": {
      "text/plain": [
       "QuantumAudio"
      ]
     },
     "execution_count": 44,
     "metadata": {},
     "output_type": "execute_result"
    }
   ],
   "source": [
    "qpam.run(100000).reconstruct_audio()"
   ]
  },
  {
   "cell_type": "code",
   "execution_count": 45,
   "id": "cee47cba-2ffb-4963-9130-08522ab9ebbe",
   "metadata": {},
   "outputs": [],
   "source": [
    "sf.write('qpam_impulse.wav', qpam.output, sr, format='WAV')"
   ]
  },
  {
   "cell_type": "code",
   "execution_count": null,
   "id": "6ac93fe5-4e42-4639-b1cb-8ba348af217a",
   "metadata": {},
   "outputs": [],
   "source": []
  }
 ],
 "metadata": {
  "kernelspec": {
   "display_name": "qa",
   "language": "python",
   "name": "qa"
  },
  "language_info": {
   "codemirror_mode": {
    "name": "ipython",
    "version": 3
   },
   "file_extension": ".py",
   "mimetype": "text/x-python",
   "name": "python",
   "nbconvert_exporter": "python",
   "pygments_lexer": "ipython3",
   "version": "3.10.14"
  }
 },
 "nbformat": 4,
 "nbformat_minor": 5
}
