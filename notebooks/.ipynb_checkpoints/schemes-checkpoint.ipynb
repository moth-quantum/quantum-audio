{
 "cells": [
  {
   "cell_type": "code",
   "execution_count": null,
   "id": "2c429153-d862-49f7-b554-f6c033e2e77b",
   "metadata": {},
   "outputs": [],
   "source": [
    "pip show qiskit | grep Version"
   ]
  },
  {
   "cell_type": "code",
   "execution_count": null,
   "id": "c024f143-76d2-4421-8551-9184812a7b08",
   "metadata": {},
   "outputs": [],
   "source": [
    "import sys\n",
    "sys.path.append(\"../src\")"
   ]
  },
  {
   "cell_type": "code",
   "execution_count": null,
   "id": "23e26c2f-5df8-44ab-9e5b-3ac9b498b73b",
   "metadata": {},
   "outputs": [],
   "source": [
    "import utils\n",
    "import qiskit\n",
    "import numpy as np\n",
    "import qiskit_aer"
   ]
  },
  {
   "cell_type": "code",
   "execution_count": null,
   "id": "5e3d94cb-ffd3-4d29-9ba2-6b97015cc5c1",
   "metadata": {},
   "outputs": [],
   "source": [
    "def normalize(data):\n",
    "    data = (data+1)/2\n",
    "    return data/np.linalg.norm(data)"
   ]
  },
  {
   "cell_type": "code",
   "execution_count": null,
   "id": "1b5e6ffd-8007-4c2b-b571-093365b7a7d7",
   "metadata": {},
   "outputs": [],
   "source": [
    "def reconstruct(counts,shots,data):\n",
    "    da = np.zeros(len(data))\n",
    "    index = np.array([int(key, 2) for key in counts])\n",
    "    da[index] = list(counts.values())\n",
    "    g = np.linalg.norm((data+1)/2)\n",
    "    return 2*g*np.sqrt(da/shots)-1"
   ]
  },
  {
   "cell_type": "code",
   "execution_count": null,
   "id": "2689bb6b-ef78-4251-9a93-c8ecb33bdf78",
   "metadata": {},
   "outputs": [],
   "source": [
    "num_samples = 8\n",
    "time_register_size = int(np.log2(num_samples))"
   ]
  },
  {
   "cell_type": "code",
   "execution_count": null,
   "id": "1af6c73c-f3a9-40a3-8d78-a8cfd106214c",
   "metadata": {},
   "outputs": [],
   "source": [
    "data = utils.simulate_data(num_samples=num_samples)"
   ]
  },
  {
   "cell_type": "code",
   "execution_count": null,
   "id": "5d5d3741-ac44-48ec-9157-b0a96cba5d32",
   "metadata": {},
   "outputs": [],
   "source": [
    "time_register = qiskit.QuantumRegister(time_register_size,'t')\n",
    "qc = qiskit.QuantumCircuit(time_register)\n",
    "qc.initialize(normalize(data))\n",
    "qc.measure_all()\n",
    "qc.draw('mpl',style='clifford')"
   ]
  },
  {
   "cell_type": "code",
   "execution_count": null,
   "id": "0ff32540-31b9-46e7-929b-715bf8ec1622",
   "metadata": {},
   "outputs": [],
   "source": [
    "backend = qiskit_aer.AerSimulator()\n",
    "shots = 1024"
   ]
  },
  {
   "cell_type": "code",
   "execution_count": null,
   "id": "964c740d-0690-4a05-abd2-df870efc1e9b",
   "metadata": {},
   "outputs": [],
   "source": [
    "job = qiskit.execute(qc,backend=aer,shots=1024)"
   ]
  },
  {
   "cell_type": "code",
   "execution_count": null,
   "id": "c87577b5-3916-4b7d-b08f-726f958bb944",
   "metadata": {},
   "outputs": [],
   "source": [
    "counts = job.result().get_counts()"
   ]
  },
  {
   "cell_type": "code",
   "execution_count": null,
   "id": "230691be-0a82-4ded-a86b-fff76e856655",
   "metadata": {},
   "outputs": [],
   "source": [
    "out = reconstruct(counts=counts,shots=shots,data=data)"
   ]
  },
  {
   "cell_type": "code",
   "execution_count": null,
   "id": "326b5e42-dcc4-4583-b749-2719822a5184",
   "metadata": {},
   "outputs": [],
   "source": [
    "utils.plot([data,out])"
   ]
  },
  {
   "cell_type": "code",
   "execution_count": null,
   "id": "e1ff1ccf-72c8-4e31-837b-90a6221db542",
   "metadata": {},
   "outputs": [],
   "source": []
  }
 ],
 "metadata": {
  "kernelspec": {
   "display_name": "qa",
   "language": "python",
   "name": "qa"
  },
  "language_info": {
   "codemirror_mode": {
    "name": "ipython",
    "version": 3
   },
   "file_extension": ".py",
   "mimetype": "text/x-python",
   "name": "python",
   "nbconvert_exporter": "python",
   "pygments_lexer": "ipython3",
   "version": "3.10.14"
  }
 },
 "nbformat": 4,
 "nbformat_minor": 5
}
