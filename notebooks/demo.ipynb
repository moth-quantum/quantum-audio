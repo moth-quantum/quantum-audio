{
 "cells": [
  {
   "cell_type": "code",
   "execution_count": 1,
   "id": "8712cf68-7da1-466f-88ae-98bbb2a8e8cc",
   "metadata": {},
   "outputs": [],
   "source": [
    "import sys\n",
    "sys.path.append(\"../src\")\n",
    "from schemes import qpam, qsm\n",
    "import utils"
   ]
  },
  {
   "cell_type": "code",
   "execution_count": 2,
   "id": "329e518c-b089-4000-9f55-6ef3404d752f",
   "metadata": {},
   "outputs": [],
   "source": [
    "size = 32"
   ]
  },
  {
   "cell_type": "code",
   "execution_count": 3,
   "id": "1787af30-afc0-438c-b102-79494a06d28b",
   "metadata": {},
   "outputs": [
    {
     "name": "stdout",
     "output_type": "stream",
     "text": [
      "Bit Depth: 1\n"
     ]
    }
   ],
   "source": [
    "original_data = utils.image_to_array('moth_logo.png',size=size,mode='1')\n",
    "scheme        = qsm.QSM()\n",
    "encoded_circuit = scheme.encode(original_data)"
   ]
  },
  {
   "cell_type": "code",
   "execution_count": 4,
   "id": "b5cc34a9-35c2-41d7-a6b6-e500e1d63232",
   "metadata": {},
   "outputs": [
    {
     "data": {
      "application/vnd.jupyter.widget-view+json": {
       "model_id": "480ec6a4c2c344b580bfe543ec4c764b",
       "version_major": 2,
       "version_minor": 0
      },
      "text/plain": [
       "interactive(children=(IntSlider(value=1, description='Shots', max=10000, min=1), Output()), _dom_classes=('wid…"
      ]
     },
     "metadata": {},
     "output_type": "display_data"
    },
    {
     "data": {
      "text/plain": [
       "<function utils.tune_img.<locals>.plot_function(shots)>"
      ]
     },
     "execution_count": 4,
     "metadata": {},
     "output_type": "execute_result"
    }
   ],
   "source": [
    "utils.tune_img(encoded_circuit,function=scheme.decode,size=size,step=1,upscale=5,max_value=10000)"
   ]
  },
  {
   "cell_type": "code",
   "execution_count": null,
   "id": "aa2138bf-e251-44d7-a1b5-83d163d7f0e5",
   "metadata": {},
   "outputs": [],
   "source": [
    "#utils.tune(encoded_circuit,function=scheme.decode,ref=original_data,step=8,max_value=4000,limit=100)"
   ]
  },
  {
   "cell_type": "code",
   "execution_count": null,
   "id": "5cc60482-2d36-4dba-9d8d-b6005698ca6f",
   "metadata": {},
   "outputs": [],
   "source": [
    "utils.play(utils.interpolate(scheme.decode(encoded_circuit,shots=50)))"
   ]
  },
  {
   "cell_type": "code",
   "execution_count": null,
   "id": "c3de1e13-5428-4a98-b642-8e82b05be1ef",
   "metadata": {},
   "outputs": [],
   "source": [
    "utils.play(utils.interpolate(original_data),autoplay=True)"
   ]
  },
  {
   "cell_type": "code",
   "execution_count": null,
   "id": "e06a8e33-c3ac-4472-84eb-768b10b30f8d",
   "metadata": {},
   "outputs": [],
   "source": []
  }
 ],
 "metadata": {
  "kernelspec": {
   "display_name": "qa",
   "language": "python",
   "name": "qa"
  },
  "language_info": {
   "codemirror_mode": {
    "name": "ipython",
    "version": 3
   },
   "file_extension": ".py",
   "mimetype": "text/x-python",
   "name": "python",
   "nbconvert_exporter": "python",
   "pygments_lexer": "ipython3",
   "version": "3.10.14"
  }
 },
 "nbformat": 4,
 "nbformat_minor": 5
}
