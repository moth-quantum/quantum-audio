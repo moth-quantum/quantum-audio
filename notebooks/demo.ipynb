{
 "cells": [
  {
   "cell_type": "code",
   "execution_count": 1,
   "id": "8712cf68-7da1-466f-88ae-98bbb2a8e8cc",
   "metadata": {},
   "outputs": [],
   "source": [
    "import sys\n",
    "sys.path.append(\"../src\")\n",
    "from schemes import qpam, qsm\n",
    "import utils"
   ]
  },
  {
   "cell_type": "code",
   "execution_count": 16,
   "id": "1787af30-afc0-438c-b102-79494a06d28b",
   "metadata": {},
   "outputs": [],
   "source": [
    "original_data = utils.simulate_data(num_samples=500)\n",
    "scheme        = qsm.QSM()"
   ]
  },
  {
   "cell_type": "code",
   "execution_count": 17,
   "id": "255ede2f-0b4e-4745-98d9-154faadf5e5b",
   "metadata": {},
   "outputs": [],
   "source": [
    "encoded_circuit = scheme.encode(original_data)"
   ]
  },
  {
   "cell_type": "code",
   "execution_count": 19,
   "id": "aa2138bf-e251-44d7-a1b5-83d163d7f0e5",
   "metadata": {},
   "outputs": [
    {
     "data": {
      "application/vnd.jupyter.widget-view+json": {
       "model_id": "760aa6289d494fd8a396e86c70c61e4c",
       "version_major": 2,
       "version_minor": 0
      },
      "text/plain": [
       "interactive(children=(IntSlider(value=1, description='Shots', max=4000, min=1, step=8), Output()), _dom_classe…"
      ]
     },
     "metadata": {},
     "output_type": "display_data"
    },
    {
     "data": {
      "text/plain": [
       "<function utils.tune.<locals>.plot_function(shots)>"
      ]
     },
     "execution_count": 19,
     "metadata": {},
     "output_type": "execute_result"
    }
   ],
   "source": [
    "utils.tune(encoded_circuit,function=scheme.decode,ref=original_data,step=8,max_value=4000,limit=100)"
   ]
  },
  {
   "cell_type": "code",
   "execution_count": null,
   "id": "5cc60482-2d36-4dba-9d8d-b6005698ca6f",
   "metadata": {},
   "outputs": [],
   "source": []
  }
 ],
 "metadata": {
  "kernelspec": {
   "display_name": "qa",
   "language": "python",
   "name": "qa"
  },
  "language_info": {
   "codemirror_mode": {
    "name": "ipython",
    "version": 3
   },
   "file_extension": ".py",
   "mimetype": "text/x-python",
   "name": "python",
   "nbconvert_exporter": "python",
   "pygments_lexer": "ipython3",
   "version": "3.10.14"
  }
 },
 "nbformat": 4,
 "nbformat_minor": 5
}
