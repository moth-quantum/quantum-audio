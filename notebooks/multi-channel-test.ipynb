{
 "cells": [
  {
   "cell_type": "code",
   "execution_count": 3,
   "id": "75059701-e7f3-41e0-9637-04faa8277025",
   "metadata": {},
   "outputs": [],
   "source": [
    "import sys\n",
    "sys.path.append(\"..\") #/src\")"
   ]
  },
  {
   "cell_type": "code",
   "execution_count": 4,
   "id": "c0406ef0-dc33-4d4c-8508-a31349d8083b",
   "metadata": {},
   "outputs": [],
   "source": [
    "import quantumaudio"
   ]
  },
  {
   "cell_type": "code",
   "execution_count": 8,
   "id": "41bfcdc7-787f-4b37-8875-21b79c52d79f",
   "metadata": {},
   "outputs": [],
   "source": [
    "import importlib"
   ]
  },
  {
   "cell_type": "code",
   "execution_count": 24,
   "id": "aa7ce6a0-81b5-4140-b2be-9e546b7b81ec",
   "metadata": {
    "scrolled": true
   },
   "outputs": [],
   "source": [
    "def load_scheme(class_name,module_name='src.schemes'):\n",
    "    try:\n",
    "        scheme = importlib.import_module(f'{module_name}.{class_name.lower()}')\n",
    "        return getattr(scheme, class_name.upper())\n",
    "    except (ImportError, AttributeError) as e:\n",
    "        raise ImportError(f\"Could not load class '{class_name}' from module '{module_name}'. Error: {e}\")"
   ]
  },
  {
   "cell_type": "code",
   "execution_count": 26,
   "id": "2b91a051-277f-43e7-bca7-fd58507e5517",
   "metadata": {},
   "outputs": [
    {
     "data": {
      "text/plain": [
       "<function src.schemes.msqpam.MSQPAM.encode(self, data)>"
      ]
     },
     "execution_count": 26,
     "metadata": {},
     "output_type": "execute_result"
    }
   ],
   "source": [
    "load_scheme('msqpam').encode(x)"
   ]
  },
  {
   "cell_type": "code",
   "execution_count": null,
   "id": "c1c8deb5-7ac4-42c7-ae8e-c65172ebf0e6",
   "metadata": {},
   "outputs": [],
   "source": [
    "load"
   ]
  },
  {
   "cell_type": "code",
   "execution_count": 28,
   "id": "c47bd5a7-8475-4beb-a521-bc9787edd465",
   "metadata": {},
   "outputs": [
    {
     "ename": "SyntaxError",
     "evalue": "incomplete input (2522291349.py, line 5)",
     "output_type": "error",
     "traceback": [
      "\u001b[0;36m  Cell \u001b[0;32mIn[28], line 5\u001b[0;36m\u001b[0m\n\u001b[0;31m    import numpy as np\\\u001b[0m\n\u001b[0m                       ^\u001b[0m\n\u001b[0;31mSyntaxError\u001b[0m\u001b[0;31m:\u001b[0m incomplete input\n"
     ]
    }
   ],
   "source": [
    "import sys\n",
    "sys.path.append(\"../src\")\n",
    "from schemes import msqpam, mqsm\n",
    "import utils\n",
    "import numpy as np\\"
   ]
  },
  {
   "cell_type": "code",
   "execution_count": 27,
   "id": "edc65eab-bac7-4dd6-98a2-6f7f39beb89c",
   "metadata": {},
   "outputs": [
    {
     "ename": "NameError",
     "evalue": "name 'utils' is not defined",
     "output_type": "error",
     "traceback": [
      "\u001b[0;31m---------------------------------------------------------------------------\u001b[0m",
      "\u001b[0;31mNameError\u001b[0m                                 Traceback (most recent call last)",
      "Cell \u001b[0;32mIn[27], line 1\u001b[0m\n\u001b[0;32m----> 1\u001b[0m data \u001b[38;5;241m=\u001b[39m \u001b[43mutils\u001b[49m\u001b[38;5;241m.\u001b[39msimulate_data(\u001b[38;5;241m2\u001b[39m,\u001b[38;5;241m4\u001b[39m)\n",
      "\u001b[0;31mNameError\u001b[0m: name 'utils' is not defined"
     ]
    }
   ],
   "source": [
    "data = utils.simulate_data(2,4)"
   ]
  },
  {
   "cell_type": "code",
   "execution_count": null,
   "id": "c555ca91-6a71-433c-98b8-bcf92a3753eb",
   "metadata": {},
   "outputs": [],
   "source": [
    "scheme = mqsm.QSM()"
   ]
  },
  {
   "cell_type": "code",
   "execution_count": null,
   "id": "bff723ef-a9f2-4e20-9741-872c36c94f43",
   "metadata": {},
   "outputs": [],
   "source": [
    "circuit = scheme.encode(data)"
   ]
  },
  {
   "cell_type": "code",
   "execution_count": null,
   "id": "a1dc5442-3c9c-404d-8f15-4073aa1fee0a",
   "metadata": {},
   "outputs": [],
   "source": [
    "circuit.decompose().draw('mpl',style='clifford')"
   ]
  },
  {
   "cell_type": "code",
   "execution_count": null,
   "id": "f44aa1a1-c7f4-4b92-8b96-d513e5832579",
   "metadata": {},
   "outputs": [],
   "source": [
    "decoded_data = scheme.decode(circuit,shots=10000)"
   ]
  },
  {
   "cell_type": "code",
   "execution_count": null,
   "id": "6e30ae3f-09e2-4152-aa20-318f24b1f123",
   "metadata": {},
   "outputs": [],
   "source": [
    "utils.plot([data,decoded_data])"
   ]
  },
  {
   "cell_type": "code",
   "execution_count": null,
   "id": "b79ee49d-9b0e-4465-a701-15693b040c63",
   "metadata": {},
   "outputs": [],
   "source": []
  }
 ],
 "metadata": {
  "kernelspec": {
   "display_name": "qa",
   "language": "python",
   "name": "qa"
  },
  "language_info": {
   "codemirror_mode": {
    "name": "ipython",
    "version": 3
   },
   "file_extension": ".py",
   "mimetype": "text/x-python",
   "name": "python",
   "nbconvert_exporter": "python",
   "pygments_lexer": "ipython3",
   "version": "3.10.14"
  }
 },
 "nbformat": 4,
 "nbformat_minor": 5
}
