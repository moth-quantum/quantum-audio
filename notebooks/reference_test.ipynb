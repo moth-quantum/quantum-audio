{
 "cells": [
  {
   "cell_type": "code",
   "execution_count": null,
   "id": "898f3243-5a0a-4668-ae40-2604936dfc0c",
   "metadata": {},
   "outputs": [],
   "source": [
    "#pip show qiskit | grep Version"
   ]
  },
  {
   "cell_type": "code",
   "execution_count": 1,
   "id": "9148b0ac-a8a6-4a13-b2a5-a1a50e8fada4",
   "metadata": {},
   "outputs": [],
   "source": [
    "import sys\n",
    "sys.path.append(\"../src\")\n",
    "import utils\n",
    "from reference import quantumaudio"
   ]
  },
  {
   "cell_type": "code",
   "execution_count": 2,
   "id": "83efeb91-1b92-45a7-bbad-2bc398c24a2d",
   "metadata": {},
   "outputs": [],
   "source": [
    "audio = utils.simulate_data(num_samples=16)"
   ]
  },
  {
   "cell_type": "code",
   "execution_count": 3,
   "id": "dd24ff90-e7be-4f48-b0b2-f6e75093cdaa",
   "metadata": {},
   "outputs": [],
   "source": [
    "def encode(data,scheme):\n",
    "\tqa = quantumaudio.QuantumAudio(scheme).load_input(data).prepare().measure()\n",
    "\treturn qa\n",
    "\n",
    "def decode(qa,shots=1024):\n",
    "    qa.run(shots).reconstruct_audio()\n",
    "    return qa.output"
   ]
  },
  {
   "cell_type": "code",
   "execution_count": null,
   "id": "6ac93fe5-4e42-4639-b1cb-8ba348af217a",
   "metadata": {},
   "outputs": [],
   "source": []
  }
 ],
 "metadata": {
  "kernelspec": {
   "display_name": "qa",
   "language": "python",
   "name": "qa"
  },
  "language_info": {
   "codemirror_mode": {
    "name": "ipython",
    "version": 3
   },
   "file_extension": ".py",
   "mimetype": "text/x-python",
   "name": "python",
   "nbconvert_exporter": "python",
   "pygments_lexer": "ipython3",
   "version": "3.10.14"
  }
 },
 "nbformat": 4,
 "nbformat_minor": 5
}
