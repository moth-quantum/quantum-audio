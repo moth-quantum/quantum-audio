{
 "cells": [
  {
   "cell_type": "code",
   "execution_count": 1,
   "id": "2c429153-d862-49f7-b554-f6c033e2e77b",
   "metadata": {},
   "outputs": [
    {
     "name": "stdout",
     "output_type": "stream",
     "text": [
      "Version: 0.46.0\n",
      "Note: you may need to restart the kernel to use updated packages.\n"
     ]
    }
   ],
   "source": [
    "pip show qiskit | grep Version"
   ]
  },
  {
   "cell_type": "code",
   "execution_count": 3,
   "id": "c024f143-76d2-4421-8551-9184812a7b08",
   "metadata": {},
   "outputs": [],
   "source": [
    "import sys\n",
    "sys.path.append(\"../src\")"
   ]
  },
  {
   "cell_type": "code",
   "execution_count": 4,
   "id": "23e26c2f-5df8-44ab-9e5b-3ac9b498b73b",
   "metadata": {},
   "outputs": [],
   "source": [
    "import utils\n",
    "import qiskit\n",
    "import numpy as np\n",
    "import qiskit_aer\n",
    "from bitstring import BitArray"
   ]
  },
  {
   "cell_type": "code",
   "execution_count": 52,
   "id": "6b29e036-529e-4757-8063-c6cf3096b4b9",
   "metadata": {},
   "outputs": [],
   "source": [
    "data = np.array([0., -0.25, 0.5 , 0.75,  -0.75  ,  -1.,  0.25 ,  0.]) #utils.simulate_data(num_samples=8)\n",
    "time_resolution = int(np.log2(len(data)))"
   ]
  },
  {
   "cell_type": "code",
   "execution_count": null,
   "id": "a50119f8-4c24-4e4e-878f-63275b54ae77",
   "metadata": {},
   "outputs": [],
   "source": [
    "angles = utils.convert_to_angles(data)"
   ]
  },
  {
   "cell_type": "code",
   "execution_count": null,
   "id": "4c2f8bb5-91c4-4bf2-bdd7-190c7de7be80",
   "metadata": {},
   "outputs": [],
   "source": [
    "time_register      = qiskit.QuantumRegister(time_resolution,'t')\n",
    "amplitude_register = qiskit.QuantumRegister(1,'a')\n",
    "qc = qiskit.QuantumCircuit(amplitude_register,time_register)\n",
    "qc.h(time_register)"
   ]
  },
  {
   "cell_type": "code",
   "execution_count": null,
   "id": "4aadfc48-c50a-4b18-9898-b378fb0e37bb",
   "metadata": {},
   "outputs": [],
   "source": [
    "def apply_x(qc,t,treg):\n",
    "    t_bitstring = []\n",
    "    for i, treg_qubit in enumerate(treg):\n",
    "        t_bit = (t >> i) & 1\n",
    "        t_bitstring.append(t_bit)\n",
    "        if not t_bit:\n",
    "            qc.x(treg_qubit)"
   ]
  },
  {
   "cell_type": "code",
   "execution_count": null,
   "id": "cf5f78c9-6e97-4364-a982-235f1e157628",
   "metadata": {},
   "outputs": [],
   "source": [
    "def value_setting(qc, t, a, treg, areg):\n",
    "    apply_x(qc, t, treg)\n",
    "    mc_ry = qiskit.QuantumCircuit()\n",
    "    mc_ry.add_register(areg)\n",
    "    mc_ry.ry(2*a, 0)\n",
    "    mc_ry = mc_ry.control(treg.size)\n",
    "    qc.append(mc_ry, [i for i in range(treg.size + areg.size - 1, -1, -1)])\n",
    "    apply_x(qc, t, treg)"
   ]
  },
  {
   "cell_type": "code",
   "execution_count": null,
   "id": "3a2b41a0-ea85-4da5-a043-538d4339e583",
   "metadata": {},
   "outputs": [],
   "source": [
    "for t, theta in enumerate(angles):        \n",
    "    value_setting(qc, t, theta, time_register, amplitude_register)"
   ]
  },
  {
   "cell_type": "code",
   "execution_count": null,
   "id": "4d7d74eb-b3d2-4b04-af2e-05ab3883ea42",
   "metadata": {},
   "outputs": [],
   "source": [
    "qc.draw('mpl',style='clifford')"
   ]
  },
  {
   "cell_type": "code",
   "execution_count": 66,
   "id": "7268c21e-6178-4ff1-a9a5-47ca9f17ee6f",
   "metadata": {},
   "outputs": [],
   "source": [
    "def measure(qc, treg_pos = 1, areg_pos = 0):\n",
    "    treg = qc.qregs[treg_pos]\n",
    "    areg = qc.qregs[areg_pos]\n",
    "       \n",
    "    ctreg = qiskit.ClassicalRegister(treg.size, 'ct')\n",
    "    careg = qiskit.ClassicalRegister(areg.size, 'ca')        \n",
    "    qc.add_register(careg)\n",
    "    qc.add_register(ctreg)\n",
    "        \n",
    "    qc.measure(treg, ctreg)\n",
    "    qc.measure(areg, careg)"
   ]
  },
  {
   "cell_type": "code",
   "execution_count": null,
   "id": "c10dbf2f-f34a-49b8-9e7e-12cbfcf85abf",
   "metadata": {},
   "outputs": [],
   "source": [
    "measure(qc)"
   ]
  },
  {
   "cell_type": "code",
   "execution_count": null,
   "id": "224e876c-ba34-4874-801f-b4e009da7ad8",
   "metadata": {},
   "outputs": [],
   "source": [
    "qc.draw('mpl',style='clifford')"
   ]
  },
  {
   "cell_type": "code",
   "execution_count": 69,
   "id": "c3ae6893-4ea5-4a64-bdde-ef13cb9c1578",
   "metadata": {},
   "outputs": [],
   "source": [
    "backend = qiskit_aer.AerSimulator()\n",
    "shots = 1024"
   ]
  },
  {
   "cell_type": "code",
   "execution_count": null,
   "id": "2bb1e7ef-9967-4d7e-aa7e-6bc65cfecd8a",
   "metadata": {},
   "outputs": [],
   "source": [
    "job = qiskit.execute(qc,backend=backend,shots=1024)\n",
    "counts = job.result().get_counts()"
   ]
  },
  {
   "cell_type": "code",
   "execution_count": null,
   "id": "bd55dae7-9d18-4882-b797-77be63d5be92",
   "metadata": {},
   "outputs": [],
   "source": [
    "def reconstruct(treg_size, counts, shots=1024):\n",
    "    N = 2**treg_size\n",
    "    cosine_amps = np.zeros(N)\n",
    "    sine_amps = np.zeros(N)\n",
    "    for state in counts:\n",
    "        (t_bits, a_bit) = state.split()\n",
    "        t = int(t_bits, 2)\n",
    "        a = counts[state]\n",
    "        if (a_bit == '0'):\n",
    "            cosine_amps[t] = a\n",
    "        elif (a_bit =='1'):\n",
    "            sine_amps[t] = a\n",
    "    return 2*(sine_amps/(cosine_amps+sine_amps))-1"
   ]
  },
  {
   "cell_type": "code",
   "execution_count": null,
   "id": "52dc0cb8-e59a-4677-8d00-d1d5b4baecef",
   "metadata": {},
   "outputs": [],
   "source": [
    "utils.plot(data)"
   ]
  },
  {
   "cell_type": "code",
   "execution_count": null,
   "id": "e5883864-b20c-4ae4-8e38-b42128776bd3",
   "metadata": {},
   "outputs": [],
   "source": [
    "utils.plot(reconstruct(8,counts))"
   ]
  },
  {
   "cell_type": "code",
   "execution_count": 53,
   "id": "f1a53410-b0ab-4ded-8b35-2bc39422d2e2",
   "metadata": {},
   "outputs": [],
   "source": [
    "def treg_index_X(qc, t, treg):\n",
    "    t_bitstring = []\n",
    "    for i, treg_qubit in enumerate(treg):\n",
    "        t_bit = (t >> i) & 1\n",
    "        t_bitstring.append(t_bit)\n",
    "        if not t_bit:\n",
    "            qc.x(treg_qubit)"
   ]
  },
  {
   "cell_type": "code",
   "execution_count": 62,
   "id": "14eb541e-cd44-4da1-8287-62e6864805f1",
   "metadata": {},
   "outputs": [],
   "source": [
    "def omega_t(qc, t, a, treg, areg):\n",
    "    treg_index_X(qc, t, treg)\n",
    "    astr = []\n",
    "    for i, areg_qubit in enumerate(areg):\n",
    "        a_bit = (a >> i) & 1\n",
    "        astr.append(a_bit)\n",
    "        if a_bit:\n",
    "            qc.mct(treg, areg_qubit)\n",
    "    treg_index_X(qc, t,treg)"
   ]
  },
  {
   "cell_type": "code",
   "execution_count": 63,
   "id": "9007c017-a956-4f9f-bb10-dfc9c6452c90",
   "metadata": {},
   "outputs": [],
   "source": [
    "def encode(audio, time_resolution, bit_depth):\n",
    "    audio = audio*(2**(bit_depth-1))\n",
    "    time_register      = qiskit.QuantumRegister(time_resolution,'t')\n",
    "    amplitude_register = qiskit.QuantumRegister(bit_depth,'a')\n",
    "    qc = qiskit.QuantumCircuit(amplitude_register,time_register)\n",
    "    qc.h(time_register)\n",
    "    for t, sample in enumerate(audio):\n",
    "        omega_t(qc, t, int(sample), time_register, amplitude_register)\n",
    "    return qc"
   ]
  },
  {
   "cell_type": "code",
   "execution_count": 64,
   "id": "0b6ff8b7-7e66-4fa0-8702-487d1c0d48fd",
   "metadata": {},
   "outputs": [
    {
     "name": "stderr",
     "output_type": "stream",
     "text": [
      "/var/folders/lq/shl3t2n51mgdksn52y8zz7t00000gn/T/ipykernel_1242/504158835.py:8: DeprecationWarning: The method ``qiskit.circuit.quantumcircuit.QuantumCircuit.mct()`` is deprecated as of qiskit 0.45.0. It will be removed in the Qiskit 1.0.0 release. Use QuantumCircuit.mcx as direct replacement.\n",
      "  qc.mct(treg, areg_qubit)\n"
     ]
    }
   ],
   "source": [
    "qc = encode(data,3,3)"
   ]
  },
  {
   "cell_type": "code",
   "execution_count": 67,
   "id": "4ccfa30f-808a-4d2f-b2e9-06c9c30582d4",
   "metadata": {},
   "outputs": [],
   "source": [
    "measure(qc)"
   ]
  },
  {
   "cell_type": "code",
   "execution_count": 70,
   "id": "caa6012c-1a8c-4d39-8aea-081db1ccc59e",
   "metadata": {},
   "outputs": [],
   "source": [
    "#qc.draw('mpl')"
   ]
  },
  {
   "cell_type": "code",
   "execution_count": 71,
   "id": "a828328b-d3da-48de-a4b9-4fc21bdb9b62",
   "metadata": {},
   "outputs": [
    {
     "name": "stderr",
     "output_type": "stream",
     "text": [
      "/var/folders/lq/shl3t2n51mgdksn52y8zz7t00000gn/T/ipykernel_1242/2088830272.py:1: DeprecationWarning: The function ``qiskit.execute_function.execute()`` is deprecated as of qiskit 0.46.0. It will be removed in the Qiskit 1.0 release. This function combines ``transpile`` and ``backend.run``, which is covered by ``Sampler`` :mod:`~qiskit.primitives`. Alternatively, you can also run :func:`.transpile` followed by ``backend.run()``.\n",
      "  job = qiskit.execute(qc,backend=backend,shots=1024)\n"
     ]
    }
   ],
   "source": [
    "job = qiskit.execute(qc,backend=backend,shots=1024)\n",
    "counts = job.result().get_counts()"
   ]
  },
  {
   "cell_type": "code",
   "execution_count": 72,
   "id": "23f4709a-b621-4e49-86bb-f843c7513cad",
   "metadata": {},
   "outputs": [],
   "source": [
    "def decode(treg_size, counts):\n",
    "    N = 2**treg_size\n",
    "    audio = np.zeros(N, int)\n",
    "    \n",
    "    for state in counts:\n",
    "        (t_bits, a_bits) = state.split()\n",
    "        t = int(t_bits, 2)\n",
    "        # The BitArray function converts binary words into signed integers,\n",
    "        # in oposition to the int(a_bit, 2) function.\n",
    "        a = BitArray(bin=a_bits).int\n",
    "        audio[t] = a\n",
    "\n",
    "    return audio"
   ]
  },
  {
   "cell_type": "code",
   "execution_count": 75,
   "id": "e28cf937-7b6e-4f08-b525-465cc167d208",
   "metadata": {},
   "outputs": [
    {
     "data": {
      "image/png": "[encoded data removed]",
      "text/plain": [
       "<Figure size 640x480 with 1 Axes>"
      ]
     },
     "metadata": {},
     "output_type": "display_data"
    }
   ],
   "source": [
    "utils.plot(decode(time_resolution,counts))"
   ]
  },
  {
   "cell_type": "code",
   "execution_count": null,
   "id": "8f37728f-3ddf-45bc-adef-2716ab925d0c",
   "metadata": {},
   "outputs": [],
   "source": []
  }
 ],
 "metadata": {
  "kernelspec": {
   "display_name": "qa",
   "language": "python",
   "name": "qa"
  },
  "language_info": {
   "codemirror_mode": {
    "name": "ipython",
    "version": 3
   },
   "file_extension": ".py",
   "mimetype": "text/x-python",
   "name": "python",
   "nbconvert_exporter": "python",
   "pygments_lexer": "ipython3",
   "version": "3.10.14"
  }
 },
 "nbformat": 4,
 "nbformat_minor": 5
}
