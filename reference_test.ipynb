{
 "cells": [
  {
   "cell_type": "code",
   "execution_count": null,
   "id": "898f3243-5a0a-4668-ae40-2604936dfc0c",
   "metadata": {},
   "outputs": [],
   "source": [
    "#pip show qiskit"
   ]
  },
  {
   "cell_type": "code",
   "execution_count": 1,
   "id": "efe82e77-a28b-47a6-b339-7d0aee8d6c41",
   "metadata": {},
   "outputs": [],
   "source": [
    "from reference import quantumaudio\n",
    "import utils"
   ]
  },
  {
   "cell_type": "code",
   "execution_count": 12,
   "id": "83efeb91-1b92-45a7-bbad-2bc398c24a2d",
   "metadata": {},
   "outputs": [],
   "source": [
    "audio = utils.simulate_data(num_samples=8)\n",
    "#utils.plot(audio)"
   ]
  },
  {
   "cell_type": "code",
   "execution_count": 13,
   "id": "dd24ff90-e7be-4f48-b0b2-f6e75093cdaa",
   "metadata": {},
   "outputs": [],
   "source": [
    "def encode(data,scheme):\n",
    "\tqa = quantumaudio.QuantumAudio(scheme).load_input(data).prepare().measure()\n",
    "\treturn qa\n",
    "\n",
    "def decode(qa,shots=1024):\n",
    "    qa.run(shots).reconstruct_audio()\n",
    "    return qa.output"
   ]
  },
  {
   "cell_type": "code",
   "execution_count": 14,
   "id": "1040bc95-c1bf-47de-bd27-56fab15cf765",
   "metadata": {},
   "outputs": [
    {
     "name": "stdout",
     "output_type": "stream",
     "text": [
      "For this input, the QPAM representation will require:\n",
      "         3 qubits for encoding time information and \n",
      "         0 qubits for encoding ampĺitude information.\n"
     ]
    }
   ],
   "source": [
    "qpam = encode(audio,scheme='qpam')"
   ]
  },
  {
   "cell_type": "code",
   "execution_count": 15,
   "id": "b44ae939-f9c6-4253-8d46-a4f83d75d26b",
   "metadata": {},
   "outputs": [
    {
     "data": {
      "application/vnd.jupyter.widget-view+json": {
       "model_id": "a9883a5d3d464fb28bf63615e8ebbbd2",
       "version_major": 2,
       "version_minor": 0
      },
      "text/plain": [
       "interactive(children=(IntSlider(value=1, description='Shots', max=2048, min=1, step=8), Output()), _dom_classe…"
      ]
     },
     "metadata": {},
     "output_type": "display_data"
    },
    {
     "data": {
      "text/plain": [
       "<function utils.tune.<locals>.plot_function(shots)>"
      ]
     },
     "execution_count": 15,
     "metadata": {},
     "output_type": "execute_result"
    }
   ],
   "source": [
    "utils.tune(qpam,function=decode,ref=audio,step=8,max_value=2048)"
   ]
  },
  {
   "cell_type": "code",
   "execution_count": null,
   "id": "7575ebef-7e4e-4ca2-91d4-9d4c1e8c34bc",
   "metadata": {},
   "outputs": [],
   "source": []
  }
 ],
 "metadata": {
  "kernelspec": {
   "display_name": "qa",
   "language": "python",
   "name": "qa"
  },
  "language_info": {
   "codemirror_mode": {
    "name": "ipython",
    "version": 3
   },
   "file_extension": ".py",
   "mimetype": "text/x-python",
   "name": "python",
   "nbconvert_exporter": "python",
   "pygments_lexer": "ipython3",
   "version": "3.10.14"
  }
 },
 "nbformat": 4,
 "nbformat_minor": 5
}
