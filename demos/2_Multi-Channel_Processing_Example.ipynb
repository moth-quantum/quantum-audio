{
 "cells": [
  {
   "cell_type": "markdown",
   "id": "f29ad7fd-5bb3-4efb-9fb6-044b4abe5c91",
   "metadata": {},
   "source": [
    "#### Example of Multi-Channel Quantum Audio Processing"
   ]
  },
  {
   "cell_type": "markdown",
   "id": "0f6ac17b-8175-45d1-ace1-aa825e7a5b8c",
   "metadata": {},
   "source": [
    "##### Channel Inversion\n",
    "\n",
    "The following example creates simple channel inversion of Stereo Audio\n",
    "with a **single instruction** of applying X gate to the channel qubit :    \n",
    "              \n",
    "                 `circuit.x(channel_qubit_index)`"
   ]
  },
  {
   "cell_type": "markdown",
   "id": "e249cc08-9928-4ba6-8cd5-367b65ee8040",
   "metadata": {},
   "source": [
    "##### Quick Preview: Original vs Processed\n",
    "Here's a demonstration of an audio file that was processed through this effect."
   ]
  },
  {
   "cell_type": "code",
   "execution_count": null,
   "id": "9c1b0a8c-2a92-4624-a12e-0986ddb731dd",
   "metadata": {},
   "outputs": [],
   "source": [
    "from tools.interactive import compare_audio"
   ]
  },
  {
   "cell_type": "code",
   "execution_count": null,
   "id": "b4f85ba7-95a2-4460-a842-bf778c4b4ec7",
   "metadata": {},
   "outputs": [],
   "source": [
    "compare_audio(\"media/Ignacio.mp3\",\"media/Igancio_channel_inverted.wav\")"
   ]
  },
  {
   "cell_type": "markdown",
   "id": "65a03b66-b85d-45ae-ae89-ebeee5e28ce5",
   "metadata": {},
   "source": [
    "#### Import _quantumaudio_ and necessary _tools_"
   ]
  },
  {
   "cell_type": "code",
   "execution_count": null,
   "id": "60f9c61e-2ff4-4b62-aa37-ec573ad1f2ba",
   "metadata": {},
   "outputs": [],
   "source": [
    "# For use of quantumaudio from PyPI\n",
    "#!pip install \"quantumaudio[demos]\" "
   ]
  },
  {
   "cell_type": "code",
   "execution_count": null,
   "id": "302be8c7-e3a4-4241-9f0a-af01058165f0",
   "metadata": {},
   "outputs": [],
   "source": [
    "# For use of quantumaudio from repository\n",
    "import os\n",
    "import sys\n",
    "sys.path.insert(0, os.path.dirname(os.getcwd()))"
   ]
  },
  {
   "cell_type": "code",
   "execution_count": null,
   "id": "b1424e0a-5189-419b-83a2-1643c0f53989",
   "metadata": {},
   "outputs": [],
   "source": [
    "import quantumaudio"
   ]
  },
  {
   "cell_type": "code",
   "execution_count": null,
   "id": "7e568df9-8bba-4bdc-b651-71895288c175",
   "metadata": {},
   "outputs": [],
   "source": [
    "from tools.audio import read\n",
    "from tools.interactive import play"
   ]
  },
  {
   "cell_type": "markdown",
   "id": "25ff12fd-2aed-4e65-a60a-5180d36d4573",
   "metadata": {},
   "source": [
    "#### Load a Stereo Audio"
   ]
  },
  {
   "cell_type": "code",
   "execution_count": null,
   "id": "8e280ab6-3b73-4e35-8c68-5e43afe2e3ca",
   "metadata": {},
   "outputs": [],
   "source": [
    "path = \"media/Ignacio.mp3\""
   ]
  },
  {
   "cell_type": "code",
   "execution_count": null,
   "id": "778abd6f-8281-4ffe-b90c-02d0b3430036",
   "metadata": {},
   "outputs": [],
   "source": [
    "y, sr = read(path,mono=False)"
   ]
  },
  {
   "cell_type": "code",
   "execution_count": null,
   "id": "8f0f72a0-a922-4bd6-b3d5-5393906e099a",
   "metadata": {},
   "outputs": [],
   "source": [
    "play(y, rate=sr)"
   ]
  },
  {
   "cell_type": "markdown",
   "id": "8a93c917-a238-4088-a606-50c36ea65a7f",
   "metadata": {},
   "source": [
    "#### Write custom process function"
   ]
  },
  {
   "cell_type": "code",
   "execution_count": null,
   "id": "062fb957-5521-425e-8157-706750d0a292",
   "metadata": {},
   "outputs": [],
   "source": [
    "def inverse_channel(chunk, scheme, backend=None, shots=8000):\n",
    "    # encode\n",
    "    circuit = scheme.encode(chunk, verbose=0, measure=False)\n",
    "    # get channel qubit index\n",
    "    channel_qubit_index = circuit.metadata[\"qubit_shape\"][0] + 1 #channel qubit follows index qubit\n",
    "    # apply inverse operation\n",
    "    circuit.x(channel_qubit_index)\n",
    "    # decode\n",
    "    chunk = scheme.decode(circuit, backend=backend, shots=shots)\n",
    "    return chunk"
   ]
  },
  {
   "cell_type": "markdown",
   "id": "13a88986-24ad-4c49-9501-a9496379e4d8",
   "metadata": {},
   "source": [
    "#### Perform Quantum Audio processing"
   ]
  },
  {
   "cell_type": "code",
   "execution_count": null,
   "id": "5002b27b-4700-4485-8b9f-81088efd892d",
   "metadata": {},
   "outputs": [],
   "source": [
    "y_out = quantumaudio.stream(y,process_function=inverse_channel)"
   ]
  },
  {
   "cell_type": "markdown",
   "id": "043f5301-7e92-41cf-8f54-b636de9c9447",
   "metadata": {},
   "source": [
    "#### Play the Output Audio"
   ]
  },
  {
   "cell_type": "code",
   "execution_count": null,
   "id": "0946e157-83c6-4bc1-917e-de3a9047c704",
   "metadata": {},
   "outputs": [],
   "source": [
    "play(y_out,rate=sr)"
   ]
  },
  {
   "cell_type": "code",
   "execution_count": null,
   "id": "b91d5c7e-b8fb-460d-8a12-e57a308b274e",
   "metadata": {},
   "outputs": [],
   "source": []
  }
 ],
 "metadata": {
  "kernelspec": {
   "display_name": "qap",
   "language": "python",
   "name": "qap"
  },
  "language_info": {
   "codemirror_mode": {
    "name": "ipython",
    "version": 3
   },
   "file_extension": ".py",
   "mimetype": "text/x-python",
   "name": "python",
   "nbconvert_exporter": "python",
   "pygments_lexer": "ipython3",
   "version": "3.10.15"
  }
 },
 "nbformat": 4,
 "nbformat_minor": 5
}
